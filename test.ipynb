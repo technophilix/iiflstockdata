{
 "cells": [
  {
   "cell_type": "code",
   "execution_count": 1,
   "id": "0c9e2501-b3cd-4ef0-842a-376c24379f97",
   "metadata": {
    "ExecuteTime": {
     "end_time": "2023-09-07T06:18:59.231723400Z",
     "start_time": "2023-09-07T06:18:49.027249600Z"
    }
   },
   "outputs": [],
   "source": [
    "import os\n",
    "from datetime import datetime\n",
    "\n",
    "from Connect import XTSConnect\n",
    "from dotenv import load_dotenv\n",
    "import pandas as pd\n",
    "\n",
    "load_dotenv()\n",
    "\n",
    "\"\"\"Investor client credentials\"\"\"\n",
    "API_KEY = os.getenv(\"API_KEY\")\n",
    "API_SECRET = os.getenv(\"API_SECRET\")\n",
    "clientID = os.getenv(\"clientID\")\n",
    "XTS_API_BASE_URL = \"https://developers.symphonyfintech.in\"\n",
    "source = \"WEBAPI\"\n",
    "file_path_temp='OHLC.txt'\n",
    "\"\"\"Make XTSConnect object by passing your \n",
    "interactive API appKey, \n",
    "secretKey and source\"\"\"\n",
    "\n",
    "\n",
    "xt = XTSConnect(API_KEY, API_SECRET, source)\n",
    "\"\"\"Using the xt object we created call the interactive login Request\"\"\"\n",
    "response = xt.marketdata_login()\n",
    "\n",
    "\n",
    "\n",
    "if response['type'] == 'success':\n",
    "\n",
    "    output_excel = input(\"Enter the excel file name\")\n",
    "    output_excel = output_excel+ \".xlsx\"\n",
    "    exchangesegment = xt.EXCHANGE_NSECM\n",
    "\n",
    "    master = xt.get_master([exchangesegment])\n",
    "    \n",
    "    "
   ]
  },
  {
   "cell_type": "code",
   "execution_count": 2,
   "id": "7c9ccb2d-77d8-4a69-a15e-be5e78262c90",
   "metadata": {
    "ExecuteTime": {
     "end_time": "2023-09-07T06:18:59.244020300Z",
     "start_time": "2023-09-07T06:18:59.238704200Z"
    }
   },
   "outputs": [],
   "source": [
    "rows = master['result'].strip('\\n').split('\\n')\n",
    "\n",
    "data_list = []\n",
    "for row in rows:\n",
    "    row_data = row.split('|')\n",
    "    data_list.append(row_data)\n",
    "df = pd.DataFrame(data_list, columns=['ExchangeSegment','ExchangeInstrumentID', 'InstrumentType', 'Name','Description','Series', 'NameWithSeries', 'InstrumentID','PriceBand.High','PriceBand.Low', 'FreezeQty', 'TickSize', 'LotSize', 'Multiplier'])\n",
    "\n",
    "filtered_df = df[df['Series'] == 'EQ']\n"
   ]
  },
  {
   "cell_type": "code",
   "execution_count": 3,
   "id": "8a6f3d3b-3e2d-4d50-9a9d-fb478407a9ac",
   "metadata": {
    "ExecuteTime": {
     "end_time": "2023-09-07T06:18:59.805771400Z",
     "start_time": "2023-09-07T06:18:59.245019700Z"
    }
   },
   "outputs": [],
   "source": [
    "filtered_df.to_excel('master.xlsx', index=False)"
   ]
  },
  {
   "cell_type": "code",
   "execution_count": 3,
   "outputs": [],
   "source": [],
   "metadata": {
    "collapsed": false,
    "ExecuteTime": {
     "end_time": "2023-09-07T06:18:59.810175600Z",
     "start_time": "2023-09-07T06:18:59.806694500Z"
    }
   },
   "id": "e0a93e765429b579"
  },
  {
   "cell_type": "code",
   "execution_count": 3,
   "outputs": [],
   "source": [],
   "metadata": {
    "collapsed": false,
    "ExecuteTime": {
     "end_time": "2023-09-07T06:18:59.814169Z",
     "start_time": "2023-09-07T06:18:59.809194900Z"
    }
   },
   "id": "8a6cc0fffdbdd0ff"
  }
 ],
 "metadata": {
  "kernelspec": {
   "display_name": "Python 3 (ipykernel)",
   "language": "python",
   "name": "python3"
  },
  "language_info": {
   "codemirror_mode": {
    "name": "ipython",
    "version": 3
   },
   "file_extension": ".py",
   "mimetype": "text/x-python",
   "name": "python",
   "nbconvert_exporter": "python",
   "pygments_lexer": "ipython3",
   "version": "3.11.4"
  }
 },
 "nbformat": 4,
 "nbformat_minor": 5
}
