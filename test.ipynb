{
 "cells": [
  {
   "cell_type": "code",
   "execution_count": 17,
   "id": "0c9e2501-b3cd-4ef0-842a-376c24379f97",
   "metadata": {},
   "outputs": [],
   "source": [
    "import os\n",
    "from datetime import datetime\n",
    "\n",
    "from Connect import XTSConnect\n",
    "from dotenv import load_dotenv\n",
    "import pandas as pd\n",
    "\n",
    "load_dotenv()\n",
    "\n",
    "\"\"\"Investor client credentials\"\"\"\n",
    "API_KEY = os.getenv(\"API_KEY\")\n",
    "API_SECRET = os.getenv(\"API_SECRET\")\n",
    "clientID = os.getenv(\"clientID\")\n",
    "XTS_API_BASE_URL = \"https://developers.symphonyfintech.in\"\n",
    "source = \"WEBAPI\"\n",
    "file_path_temp='OHLC.txt'\n",
    "\"\"\"Make XTSConnect object by passing your \n",
    "interactive API appKey, \n",
    "secretKey and source\"\"\"\n",
    "\n",
    "\n",
    "xt = XTSConnect(API_KEY, API_SECRET, source)\n",
    "\"\"\"Using the xt object we created call the interactive login Request\"\"\"\n",
    "response = xt.marketdata_login()\n",
    "\n",
    "\n",
    "\n",
    "if response['type'] == 'success':\n",
    "\n",
    "    output_excel = input(\"Enter the excel file name\")\n",
    "    output_excel = output_excel+ \".xlsx\"\n",
    "    exchangesegment = xt.EXCHANGE_NSECM\n",
    "\n",
    "    master = xt.get_master([exchangesegment])\n",
    "    xt.ge\n",
    "    "
   ]
  },
  {
   "cell_type": "code",
   "execution_count": 18,
   "id": "7c9ccb2d-77d8-4a69-a15e-be5e78262c90",
   "metadata": {},
   "outputs": [],
   "source": [
    "rows = master['result'].strip('\\n').split('\\n')\n",
    "\n",
    "data_list = []\n",
    "for row in rows:\n",
    "    row_data = row.split('|')\n",
    "    data_list.append(row_data)\n",
    "df = pd.DataFrame(data_list, columns=['ExchangeSegment','ExchangeInstrumentID', 'InstrumentType', 'Name','Description','Series', 'NameWithSeries', 'InstrumentID','PriceBand.High','PriceBand.Low', 'FreezeQty', 'TickSize', 'LotSize', 'Multiplier'])\n",
    "\n",
    "filtered_df = df[df['Series'] == 'EQ']\n"
   ]
  },
  {
   "cell_type": "code",
   "execution_count": 19,
   "id": "8a6f3d3b-3e2d-4d50-9a9d-fb478407a9ac",
   "metadata": {},
   "outputs": [
    {
     "data": {
      "text/plain": "     ExchangeSegment ExchangeInstrumentID InstrumentType        Name  \\\n0              NSECM                 7218              8  SBIETFQLTY   \n1              NSECM                 9879              8     CHEVIOT   \n3              NSECM                13451              8   RATNAMANI   \n7              NSECM                   19              8    STYRENIX   \n10             NSECM                18226              8    MANINFRA   \n...              ...                  ...            ...         ...   \n5537           NSECM                24781              8    BSLNIFTY   \n5546           NSECM                22433              8  HDFCNIFBAN   \n5554           NSECM                22347              8    MACPOWER   \n5557           NSECM                27297              8    RTNINDIA   \n5570           NSECM                21726              8   MATRIMONY   \n\n        Description Series NameWithSeries   InstrumentID PriceBand.High  \\\n0     SBIETFQLTY-EQ     EQ  SBIETFQLTY-EQ  1100100007218         204.06   \n1        CHEVIOT-EQ     EQ     CHEVIOT-EQ  1100100009879         1432.9   \n3      RATNAMANI-EQ     EQ   RATNAMANI-EQ  1100100013451         3246.4   \n7       STYRENIX-EQ     EQ    STYRENIX-EQ  1100100000019         1293.7   \n10      MANINFRA-EQ     EQ    MANINFRA-EQ  1100100018226         185.85   \n...             ...    ...            ...            ...            ...   \n5537    BSLNIFTY-EQ     EQ    BSLNIFTY-EQ  1100100024781          26.59   \n5546  HDFCNIFBAN-EQ     EQ  HDFCNIFBAN-EQ  1100100022433         541.99   \n5554    MACPOWER-EQ     EQ    MACPOWER-EQ  1100100022347          389.4   \n5557    RTNINDIA-EQ     EQ    RTNINDIA-EQ  1100100027297           78.5   \n5570   MATRIMONY-EQ     EQ   MATRIMONY-EQ  1100100021726          756.8   \n\n     PriceBand.Low FreezeQty TickSize LotSize Multiplier  \n0           136.04     67921     0.01       1          1  \n1            955.3     83742     0.05       1          1  \n3           2164.3     36938     0.05       1          1  \n7            862.5     92746     0.05       1          1  \n10          123.95    645233     0.05       1          1  \n...            ...       ...      ...     ...        ...  \n5537         17.72   4512510     0.01       1          1  \n5546        361.32    221388     0.01       1          1  \n5554         259.6    308158     0.05       1          1  \n5557          52.4   1527407     0.05       1          1  \n5570         504.6    158536     0.05       1          1  \n\n[1707 rows x 14 columns]",
      "text/html": "<div>\n<style scoped>\n    .dataframe tbody tr th:only-of-type {\n        vertical-align: middle;\n    }\n\n    .dataframe tbody tr th {\n        vertical-align: top;\n    }\n\n    .dataframe thead th {\n        text-align: right;\n    }\n</style>\n<table border=\"1\" class=\"dataframe\">\n  <thead>\n    <tr style=\"text-align: right;\">\n      <th></th>\n      <th>ExchangeSegment</th>\n      <th>ExchangeInstrumentID</th>\n      <th>InstrumentType</th>\n      <th>Name</th>\n      <th>Description</th>\n      <th>Series</th>\n      <th>NameWithSeries</th>\n      <th>InstrumentID</th>\n      <th>PriceBand.High</th>\n      <th>PriceBand.Low</th>\n      <th>FreezeQty</th>\n      <th>TickSize</th>\n      <th>LotSize</th>\n      <th>Multiplier</th>\n    </tr>\n  </thead>\n  <tbody>\n    <tr>\n      <th>0</th>\n      <td>NSECM</td>\n      <td>7218</td>\n      <td>8</td>\n      <td>SBIETFQLTY</td>\n      <td>SBIETFQLTY-EQ</td>\n      <td>EQ</td>\n      <td>SBIETFQLTY-EQ</td>\n      <td>1100100007218</td>\n      <td>204.06</td>\n      <td>136.04</td>\n      <td>67921</td>\n      <td>0.01</td>\n      <td>1</td>\n      <td>1</td>\n    </tr>\n    <tr>\n      <th>1</th>\n      <td>NSECM</td>\n      <td>9879</td>\n      <td>8</td>\n      <td>CHEVIOT</td>\n      <td>CHEVIOT-EQ</td>\n      <td>EQ</td>\n      <td>CHEVIOT-EQ</td>\n      <td>1100100009879</td>\n      <td>1432.9</td>\n      <td>955.3</td>\n      <td>83742</td>\n      <td>0.05</td>\n      <td>1</td>\n      <td>1</td>\n    </tr>\n    <tr>\n      <th>3</th>\n      <td>NSECM</td>\n      <td>13451</td>\n      <td>8</td>\n      <td>RATNAMANI</td>\n      <td>RATNAMANI-EQ</td>\n      <td>EQ</td>\n      <td>RATNAMANI-EQ</td>\n      <td>1100100013451</td>\n      <td>3246.4</td>\n      <td>2164.3</td>\n      <td>36938</td>\n      <td>0.05</td>\n      <td>1</td>\n      <td>1</td>\n    </tr>\n    <tr>\n      <th>7</th>\n      <td>NSECM</td>\n      <td>19</td>\n      <td>8</td>\n      <td>STYRENIX</td>\n      <td>STYRENIX-EQ</td>\n      <td>EQ</td>\n      <td>STYRENIX-EQ</td>\n      <td>1100100000019</td>\n      <td>1293.7</td>\n      <td>862.5</td>\n      <td>92746</td>\n      <td>0.05</td>\n      <td>1</td>\n      <td>1</td>\n    </tr>\n    <tr>\n      <th>10</th>\n      <td>NSECM</td>\n      <td>18226</td>\n      <td>8</td>\n      <td>MANINFRA</td>\n      <td>MANINFRA-EQ</td>\n      <td>EQ</td>\n      <td>MANINFRA-EQ</td>\n      <td>1100100018226</td>\n      <td>185.85</td>\n      <td>123.95</td>\n      <td>645233</td>\n      <td>0.05</td>\n      <td>1</td>\n      <td>1</td>\n    </tr>\n    <tr>\n      <th>...</th>\n      <td>...</td>\n      <td>...</td>\n      <td>...</td>\n      <td>...</td>\n      <td>...</td>\n      <td>...</td>\n      <td>...</td>\n      <td>...</td>\n      <td>...</td>\n      <td>...</td>\n      <td>...</td>\n      <td>...</td>\n      <td>...</td>\n      <td>...</td>\n    </tr>\n    <tr>\n      <th>5537</th>\n      <td>NSECM</td>\n      <td>24781</td>\n      <td>8</td>\n      <td>BSLNIFTY</td>\n      <td>BSLNIFTY-EQ</td>\n      <td>EQ</td>\n      <td>BSLNIFTY-EQ</td>\n      <td>1100100024781</td>\n      <td>26.59</td>\n      <td>17.72</td>\n      <td>4512510</td>\n      <td>0.01</td>\n      <td>1</td>\n      <td>1</td>\n    </tr>\n    <tr>\n      <th>5546</th>\n      <td>NSECM</td>\n      <td>22433</td>\n      <td>8</td>\n      <td>HDFCNIFBAN</td>\n      <td>HDFCNIFBAN-EQ</td>\n      <td>EQ</td>\n      <td>HDFCNIFBAN-EQ</td>\n      <td>1100100022433</td>\n      <td>541.99</td>\n      <td>361.32</td>\n      <td>221388</td>\n      <td>0.01</td>\n      <td>1</td>\n      <td>1</td>\n    </tr>\n    <tr>\n      <th>5554</th>\n      <td>NSECM</td>\n      <td>22347</td>\n      <td>8</td>\n      <td>MACPOWER</td>\n      <td>MACPOWER-EQ</td>\n      <td>EQ</td>\n      <td>MACPOWER-EQ</td>\n      <td>1100100022347</td>\n      <td>389.4</td>\n      <td>259.6</td>\n      <td>308158</td>\n      <td>0.05</td>\n      <td>1</td>\n      <td>1</td>\n    </tr>\n    <tr>\n      <th>5557</th>\n      <td>NSECM</td>\n      <td>27297</td>\n      <td>8</td>\n      <td>RTNINDIA</td>\n      <td>RTNINDIA-EQ</td>\n      <td>EQ</td>\n      <td>RTNINDIA-EQ</td>\n      <td>1100100027297</td>\n      <td>78.5</td>\n      <td>52.4</td>\n      <td>1527407</td>\n      <td>0.05</td>\n      <td>1</td>\n      <td>1</td>\n    </tr>\n    <tr>\n      <th>5570</th>\n      <td>NSECM</td>\n      <td>21726</td>\n      <td>8</td>\n      <td>MATRIMONY</td>\n      <td>MATRIMONY-EQ</td>\n      <td>EQ</td>\n      <td>MATRIMONY-EQ</td>\n      <td>1100100021726</td>\n      <td>756.8</td>\n      <td>504.6</td>\n      <td>158536</td>\n      <td>0.05</td>\n      <td>1</td>\n      <td>1</td>\n    </tr>\n  </tbody>\n</table>\n<p>1707 rows × 14 columns</p>\n</div>"
     },
     "execution_count": 19,
     "metadata": {},
     "output_type": "execute_result"
    }
   ],
   "source": [
    "filtered_df"
   ]
  },
  {
   "cell_type": "code",
   "execution_count": 20,
   "outputs": [
    {
     "ename": "NameError",
     "evalue": "name 'p' is not defined",
     "output_type": "error",
     "traceback": [
      "\u001B[1;31m---------------------------------------------------------------------------\u001B[0m",
      "\u001B[1;31mNameError\u001B[0m                                 Traceback (most recent call last)",
      "Cell \u001B[1;32mIn[20], line 1\u001B[0m\n\u001B[1;32m----> 1\u001B[0m \u001B[43mp\u001B[49m\n",
      "\u001B[1;31mNameError\u001B[0m: name 'p' is not defined"
     ]
    }
   ],
   "source": [
    "p"
   ],
   "metadata": {
    "collapsed": false
   }
  },
  {
   "cell_type": "code",
   "execution_count": 19,
   "outputs": [],
   "source": [],
   "metadata": {
    "collapsed": false
   }
  }
 ],
 "metadata": {
  "kernelspec": {
   "display_name": "Python 3 (ipykernel)",
   "language": "python",
   "name": "python3"
  },
  "language_info": {
   "codemirror_mode": {
    "name": "ipython",
    "version": 3
   },
   "file_extension": ".py",
   "mimetype": "text/x-python",
   "name": "python",
   "nbconvert_exporter": "python",
   "pygments_lexer": "ipython3",
   "version": "3.11.4"
  }
 },
 "nbformat": 4,
 "nbformat_minor": 5
}
