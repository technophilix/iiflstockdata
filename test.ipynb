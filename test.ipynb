{
 "cells": [
  {
   "cell_type": "code",
   "execution_count": null,
   "id": "0c9e2501-b3cd-4ef0-842a-376c24379f97",
   "metadata": {},
   "outputs": [],
   "source": [
    "import os\n",
    "from Connect import XTSConnect\n",
    "from dotenv import load_dotenv\n",
    "import pandas as pd\n",
    "\n",
    "load_dotenv()\n",
    "\n",
    "\n",
    "\"\"\"Investor client credentials\"\"\"\n",
    "API_KEY = os.getenv(\"API_KEY\")\n",
    "API_SECRET = os.getenv(\"API_SECRET\")\n",
    "clientID = os.getenv(\"clientID\")\n",
    "XTS_API_BASE_URL = \"https://developers.symphonyfintech.in\"\n",
    "source = \"WEBAPI\"\n",
    "file_path_temp='OHLC.txt'\n",
    "\"\"\"Make XTSConnect object by passing your \n",
    "interactive API appKey, \n",
    "secretKey and source\"\"\"\n",
    "\n",
    "\n",
    "xt = XTSConnect(API_KEY, API_SECRET, source)\n",
    "\"\"\"Using the xt object we created call the interactive login Request\"\"\"\n",
    "response = xt.marketdata_login()\n",
    "exchangesegment = xt.EXCHANGE_NSECM\n",
    "response= xt.get_ohlc(\"NSECM\", 22, 'Aug 22 2023 091500', 'Aug 22 2023 153000', 60)\n",
    "# print(response['result']['dataReponse'])\n",
    "with open(\"sumoyda.txt\", \"w\") as f:\n",
    "    f.write(response['result']['dataReponse'])\n",
    "    \n",
    "\n",
    "\n",
    "\n",
    "df = pd.read_csv(\"sumoyda.txt\", sep=\"|\", low_memory=True, usecols=range(7), header=None,)\n",
    "df.to_excel(\"sumayda.xlsx\", index=False)"
   ]
  }
 ],
 "metadata": {
  "kernelspec": {
   "display_name": "Python 3 (ipykernel)",
   "language": "python",
   "name": "python3"
  },
  "language_info": {
   "codemirror_mode": {
    "name": "ipython",
    "version": 3
   },
   "file_extension": ".py",
   "mimetype": "text/x-python",
   "name": "python",
   "nbconvert_exporter": "python",
   "pygments_lexer": "ipython3",
   "version": "3.11.4"
  }
 },
 "nbformat": 4,
 "nbformat_minor": 5
}
